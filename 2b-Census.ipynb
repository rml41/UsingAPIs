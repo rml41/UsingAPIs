{
 "cells": [
  {
   "cell_type": "markdown",
   "metadata": {},
   "source": [
    "## Census REST interface\n",
    "The US Ceneus Bureau, who's all about collecting and sharing data, provides a number of REST-ful API for accessing data. These APIs are documented here: https://www.census.gov/data/developers/data-sets.html\n",
    "\n",
    "This notebook provides example code how to access on of their API services, the [5-year Ammerican Community Service Data](https://www.census.gov/data/developers/data-sets/acs-5year.html)."
   ]
  },
  {
   "cell_type": "markdown",
   "metadata": {},
   "source": [
    "* First we need import the Python packages needed to access this API (`requests`) and wrangle the data (`pandas`)."
   ]
  },
  {
   "cell_type": "code",
   "execution_count": 1,
   "metadata": {},
   "outputs": [],
   "source": [
    "#Import modules\n",
    "import requests\n",
    "import pandas as pd"
   ]
  },
  {
   "cell_type": "markdown",
   "metadata": {},
   "source": [
    "* If you are going to use this API in production mode, you'll need to sign up for a key. It's free and mostly just keeps track of usage so nobody abuses the service provided. For just tinkering around, you can set the key to `None` and most features will still work."
   ]
  },
  {
   "cell_type": "code",
   "execution_count": 2,
   "metadata": {},
   "outputs": [],
   "source": [
    "#Set the key\n",
    "key = None"
   ]
  },
  {
   "cell_type": "markdown",
   "metadata": {},
   "source": [
    "### American Community Survey 5-Year Data (2009-2017)\n",
    "We'll narrow in on one of the many Census APIs, namely the American Community Survey 5 year dataset:\n",
    "https://www.census.gov/data/developers/data-sets/acs-5year.html<br>\n",
    "https://api.census.gov/data/2017/acs/acs5/examples.html\n",
    "\n",
    "### Step 1: Familiarize yourself with the API calls\n",
    "_What we need to first do is gain command of the the API so we can use it to pull the exact data we want. Interacting with live examples is a great way to play around and learn how it works._ \n",
    "\n",
    "* The first link above provides information about the ACS 5-year dataset and its structure (detailed tables, subject tables, data profiles, etc.). Open that [link](https://www.census.gov/data/developers/data-sets/acs-5year.html)...\n",
    "\n",
    "\n",
    "* Scroll down to the **Detailed Tables:** section. There you'll see an example API call.<br> → _Can you identify the **server name**, **the service name**, and the parameters**?_  \n",
    "\n",
    "\n",
    "* Click on the link pointing to [Examples and Supported Geography](https://api.census.gov/data/2017/acs/acs5.html). This reveals a guide to implementing the API. \n",
    "\n",
    "\n",
    "* Now, click on the [examples](https://api.census.gov/data/2017/acs/acs5/examples.html) link in the first row to reveal several example calls to the API. Among these examples, let's see if we can extract data for all counties in North Carolina (FIPS = 37).\n",
    "\n",
    "\n",
    "* Find the row in the examples table labeled `state>county`. Click on the [second link](https://api.census.gov/data/2017/acs/acs5?get=NAME,B01001_001E&for=county:*&in=state:*) (as this one has entries in the REST URL for selecting both state and county...)\n",
    " * _The resulting web page, the **response** to our **request**, appears as a list (one item per each county) of lists (describing attributes of the county)._\n",
    " \n",
    " \n",
    "* Now modify the URL in your browser: Replace `state:*` with `state:37`. \n",
    " * _You've now filtered records for just North Carolina._\n",
    " \n",
    " \n",
    "* →**See if you can modify it so just Durham County (FIPS = 063) appears...** ([link](https://api.census.gov/data/2017/acs/acs5?get=NAME,B01001_001E&for=county:063&in=state:37))"
   ]
  },
  {
   "cell_type": "markdown",
   "metadata": {},
   "source": [
    "Next, we'll tweak the URL to modify what variable values are returned. If you look at the URL request just sent, it includes `get=NAME,B01001_001E`. If you refer back to the list of examples (link), and the click on the [`variables`](https://api.census.gov/data/2017/acs/acs5/variables.html) link, you'll find that `B01001_001E` is \"UNWEIGHTED SAMPLE COUNT OF THE POPULATION\". \n",
    "* See if you can tweak the API URL to retrieve \"Estimated total male population\" for Durham county. ([Link](https://api.census.gov/data/2017/acs/acs5?get=NAME,B01001_002E&for=county:063&in=state:37))\n",
    "* Challenge: \n",
    " * _How many 21 year old males lived in Durham in 2017?_ (Answer: 2003). \n",
    " * _What about in all of NC?_ (Answer: 79,088) "
   ]
  },
  {
   "cell_type": "markdown",
   "metadata": {},
   "source": [
    "### Step 2. Calling the API from Python\n",
    "* Here we construct the components of the REST-ful service, namely the service's endpoint and the parameters used to invoke the service to suit our needs. You'd need to consult the API documentation to determine what parameters are used and what values you'd include to get what you want."
   ]
  },
  {
   "cell_type": "code",
   "execution_count": 3,
   "metadata": {},
   "outputs": [],
   "source": [
    "#Endpoint and payload\n",
    "baseURL = 'https://api.census.gov/data/2017/acs/acs5'\n",
    "payload = {'get':'NAME,B01001_001E',\n",
    "           'for':'county:*',\n",
    "           'in':'state:37',\n",
    "           'key':key\n",
    "          }"
   ]
  },
  {
   "cell_type": "markdown",
   "metadata": {},
   "source": [
    "* Now to send off the request to the Census server and hold the response locally"
   ]
  },
  {
   "cell_type": "code",
   "execution_count": 4,
   "metadata": {},
   "outputs": [],
   "source": [
    "# Sent the request and store the response\n",
    "response = requests.get(baseURL,payload)"
   ]
  },
  {
   "cell_type": "markdown",
   "metadata": {},
   "source": [
    "* Have a look at the repsonse object contents. We can access these contents both as text and as binary objects."
   ]
  },
  {
   "cell_type": "code",
   "execution_count": 5,
   "metadata": {},
   "outputs": [
    {
     "name": "stdout",
     "output_type": "stream",
     "text": [
      "<class 'str'> <class 'bytes'>\n"
     ]
    }
   ],
   "source": [
    "t = response.text\n",
    "c = response.content\n",
    "print(type(t), type(c))"
   ]
  },
  {
   "cell_type": "markdown",
   "metadata": {},
   "source": [
    "* Print the response as text. Looks just like a list (of lists)!"
   ]
  },
  {
   "cell_type": "code",
   "execution_count": 6,
   "metadata": {
    "scrolled": true
   },
   "outputs": [
    {
     "name": "stdout",
     "output_type": "stream",
     "text": [
      "[[\"NAME\",\"B01001_001E\",\"state\",\"county\"],\n",
      "[\"Scotland County, North Carolina\",\"35445\",\"37\",\"165\"],\n",
      "[\"Watauga County, North Carolina\",\"53421\",\"37\",\"189\"],\n",
      "[\"Halifax County, North Carolina\",\"52300\",\"37\",\"083\"],\n",
      "[\"Alamance County, North Carolina\",\"157844\",\"37\",\"001\"],\n",
      "[\"Tyrrell County, North Carolina\",\"4090\",\"37\",\"177\"],\n",
      "[\"Greene County, North Carolina\",\"21059\",\"37\",\"079\"],\n",
      "[\"Haywood County, North Carolina\",\"59854\",\"37\",\"087\"],\n",
      "[\"Mitchell County, North Carolina\",\"15155\",\"37\",\"121\"],\n",
      "[\"Chowan County, North Carolina\",\"14370\",\"37\",\"041\"],\n",
      "[\"Alleghany County, North Carolina\",\"10935\",\"37\",\"005\"],\n",
      "[\"Caldwell County, North Carolina\",\"81805\",\"37\",\"027\"],\n",
      "[\"Catawba County, North Carolina\",\"156182\",\"37\",\"035\"],\n",
      "[\"Cleveland County, North Carolina\",\"97038\",\"37\",\"045\"],\n",
      "[\"Craven County, North Carolina\",\"103374\",\"37\",\"049\"],\n",
      "[\"Edgecombe County, North Carolina\",\"54032\",\"37\",\"065\"],\n",
      "[\"Granville County, North Carolina\",\"58503\",\"37\",\"077\"],\n",
      "[\"Harnett County, North Carolina\",\"128753\",\"37\",\"085\"],\n",
      "[\"Hoke County, North Carolina\",\"52571\",\"37\",\"093\"],\n",
      "[\"Henderson County, North Carolina\",\"112156\",\"37\",\"089\"],\n",
      "[\"Hyde County, North Carolina\",\"5507\",\"37\",\"095\"],\n",
      "[\"Iredell County, North Carolina\",\"169798\",\"37\",\"097\"],\n",
      "[\"Mecklenburg County, North Carolina\",\"1034290\",\"37\",\"119\"],\n",
      "[\"Northampton County, North Carolina\",\"20426\",\"37\",\"131\"],\n",
      "[\"Pitt County, North Carolina\",\"176484\",\"37\",\"147\"],\n",
      "[\"Rowan County, North Carolina\",\"138940\",\"37\",\"159\"],\n",
      "[\"Vance County, North Carolina\",\"44420\",\"37\",\"181\"],\n",
      "[\"Cherokee County, North Carolina\",\"27463\",\"37\",\"039\"],\n",
      "[\"Currituck County, North Carolina\",\"25247\",\"37\",\"053\"],\n",
      "[\"Union County, North Carolina\",\"222095\",\"37\",\"179\"],\n",
      "[\"Wilkes County, North Carolina\",\"68525\",\"37\",\"193\"],\n",
      "[\"Forsyth County, North Carolina\",\"368362\",\"37\",\"067\"],\n",
      "[\"Nash County, North Carolina\",\"94125\",\"37\",\"127\"],\n",
      "[\"Alexander County, North Carolina\",\"37159\",\"37\",\"003\"],\n",
      "[\"Bladen County, North Carolina\",\"34130\",\"37\",\"017\"],\n",
      "[\"Dare County, North Carolina\",\"35412\",\"37\",\"055\"],\n",
      "[\"Carteret County, North Carolina\",\"68699\",\"37\",\"031\"],\n",
      "[\"Warren County, North Carolina\",\"20190\",\"37\",\"185\"],\n",
      "[\"Wilson County, North Carolina\",\"81379\",\"37\",\"195\"],\n",
      "[\"Bertie County, North Carolina\",\"19913\",\"37\",\"015\"],\n",
      "[\"Gates County, North Carolina\",\"11601\",\"37\",\"073\"],\n",
      "[\"Graham County, North Carolina\",\"8607\",\"37\",\"075\"],\n",
      "[\"Martin County, North Carolina\",\"23227\",\"37\",\"117\"],\n",
      "[\"Madison County, North Carolina\",\"21347\",\"37\",\"115\"],\n",
      "[\"Pamlico County, North Carolina\",\"12803\",\"37\",\"137\"],\n",
      "[\"Perquimans County, North Carolina\",\"13506\",\"37\",\"143\"],\n",
      "[\"Polk County, North Carolina\",\"20434\",\"37\",\"149\"],\n",
      "[\"Randolph County, North Carolina\",\"142827\",\"37\",\"151\"],\n",
      "[\"Rockingham County, North Carolina\",\"91566\",\"37\",\"157\"],\n",
      "[\"Stokes County, North Carolina\",\"46124\",\"37\",\"169\"],\n",
      "[\"Washington County, North Carolina\",\"12331\",\"37\",\"187\"],\n",
      "[\"Camden County, North Carolina\",\"10336\",\"37\",\"029\"],\n",
      "[\"Clay County, North Carolina\",\"10753\",\"37\",\"043\"],\n",
      "[\"Cumberland County, North Carolina\",\"332766\",\"37\",\"051\"],\n",
      "[\"Gaston County, North Carolina\",\"214049\",\"37\",\"071\"],\n",
      "[\"Guilford County, North Carolina\",\"517197\",\"37\",\"081\"],\n",
      "[\"Jackson County, North Carolina\",\"41725\",\"37\",\"099\"],\n",
      "[\"Moore County, North Carolina\",\"94191\",\"37\",\"125\"],\n",
      "[\"Pasquotank County, North Carolina\",\"39546\",\"37\",\"139\"],\n",
      "[\"Robeson County, North Carolina\",\"134187\",\"37\",\"155\"],\n",
      "[\"Stanly County, North Carolina\",\"60875\",\"37\",\"167\"],\n",
      "[\"Swain County, North Carolina\",\"14208\",\"37\",\"173\"],\n",
      "[\"Wake County, North Carolina\",\"1023811\",\"37\",\"183\"],\n",
      "[\"Yancey County, North Carolina\",\"17605\",\"37\",\"199\"],\n",
      "[\"Anson County, North Carolina\",\"25531\",\"37\",\"007\"],\n",
      "[\"Chatham County, North Carolina\",\"68364\",\"37\",\"037\"],\n",
      "[\"McDowell County, North Carolina\",\"45069\",\"37\",\"111\"],\n",
      "[\"Franklin County, North Carolina\",\"63866\",\"37\",\"069\"],\n",
      "[\"Johnston County, North Carolina\",\"186308\",\"37\",\"101\"],\n",
      "[\"Jones County, North Carolina\",\"9776\",\"37\",\"103\"],\n",
      "[\"Macon County, North Carolina\",\"34160\",\"37\",\"113\"],\n",
      "[\"Person County, North Carolina\",\"39240\",\"37\",\"145\"],\n",
      "[\"Brunswick County, North Carolina\",\"122586\",\"37\",\"019\"],\n",
      "[\"Transylvania County, North Carolina\",\"33291\",\"37\",\"175\"],\n",
      "[\"Ashe County, North Carolina\",\"26833\",\"37\",\"009\"],\n",
      "[\"Beaufort County, North Carolina\",\"47316\",\"37\",\"013\"],\n",
      "[\"Columbus County, North Carolina\",\"56589\",\"37\",\"047\"],\n",
      "[\"Lenoir County, North Carolina\",\"57934\",\"37\",\"107\"],\n",
      "[\"Lincoln County, North Carolina\",\"80504\",\"37\",\"109\"],\n",
      "[\"Montgomery County, North Carolina\",\"27445\",\"37\",\"123\"],\n",
      "[\"Onslow County, North Carolina\",\"192685\",\"37\",\"133\"],\n",
      "[\"Orange County, North Carolina\",\"141812\",\"37\",\"135\"],\n",
      "[\"Richmond County, North Carolina\",\"45447\",\"37\",\"153\"],\n",
      "[\"Rutherford County, North Carolina\",\"66523\",\"37\",\"161\"],\n",
      "[\"Sampson County, North Carolina\",\"63664\",\"37\",\"163\"],\n",
      "[\"Surry County, North Carolina\",\"72315\",\"37\",\"171\"],\n",
      "[\"Yadkin County, North Carolina\",\"37825\",\"37\",\"197\"],\n",
      "[\"Avery County, North Carolina\",\"17535\",\"37\",\"011\"],\n",
      "[\"Buncombe County, North Carolina\",\"252268\",\"37\",\"021\"],\n",
      "[\"Burke County, North Carolina\",\"88898\",\"37\",\"023\"],\n",
      "[\"Cabarrus County, North Carolina\",\"196716\",\"37\",\"025\"],\n",
      "[\"Caswell County, North Carolina\",\"22833\",\"37\",\"033\"],\n",
      "[\"Davie County, North Carolina\",\"41766\",\"37\",\"059\"],\n",
      "[\"Davidson County, North Carolina\",\"164118\",\"37\",\"057\"],\n",
      "[\"Duplin County, North Carolina\",\"59350\",\"37\",\"061\"],\n",
      "[\"Durham County, North Carolina\",\"300865\",\"37\",\"063\"],\n",
      "[\"Hertford County, North Carolina\",\"24262\",\"37\",\"091\"],\n",
      "[\"Lee County, North Carolina\",\"59805\",\"37\",\"105\"],\n",
      "[\"New Hanover County, North Carolina\",\"219866\",\"37\",\"129\"],\n",
      "[\"Pender County, North Carolina\",\"57630\",\"37\",\"141\"],\n",
      "[\"Wayne County, North Carolina\",\"124496\",\"37\",\"191\"]]\n"
     ]
    }
   ],
   "source": [
    "print (t)"
   ]
  },
  {
   "cell_type": "markdown",
   "metadata": {},
   "source": [
    "* From here, it's a matter of exploring and interpreting your results. Often you'll want to convert your results to a JSON object. This often yields a list or dictionary which we can control more easily than a long text object."
   ]
  },
  {
   "cell_type": "code",
   "execution_count": 7,
   "metadata": {},
   "outputs": [],
   "source": [
    "#Convert the response object to JSON format.\n",
    "j = response.json()"
   ]
  },
  {
   "cell_type": "code",
   "execution_count": 8,
   "metadata": {},
   "outputs": [
    {
     "data": {
      "text/plain": [
       "list"
      ]
     },
     "execution_count": 8,
     "metadata": {},
     "output_type": "execute_result"
    }
   ],
   "source": [
    "#What type of variable is returned\n",
    "type(j)"
   ]
  },
  {
   "cell_type": "code",
   "execution_count": 9,
   "metadata": {},
   "outputs": [
    {
     "data": {
      "text/plain": [
       "[['NAME', 'B01001_001E', 'state', 'county'],\n",
       " ['Scotland County, North Carolina', '35445', '37', '165']]"
      ]
     },
     "execution_count": 9,
     "metadata": {},
     "output_type": "execute_result"
    }
   ],
   "source": [
    "#Print the first two items in the list\n",
    "j[0:2]"
   ]
  },
  {
   "cell_type": "code",
   "execution_count": 10,
   "metadata": {
    "scrolled": true
   },
   "outputs": [
    {
     "data": {
      "text/html": [
       "<div>\n",
       "<style scoped>\n",
       "    .dataframe tbody tr th:only-of-type {\n",
       "        vertical-align: middle;\n",
       "    }\n",
       "\n",
       "    .dataframe tbody tr th {\n",
       "        vertical-align: top;\n",
       "    }\n",
       "\n",
       "    .dataframe thead th {\n",
       "        text-align: right;\n",
       "    }\n",
       "</style>\n",
       "<table border=\"1\" class=\"dataframe\">\n",
       "  <thead>\n",
       "    <tr style=\"text-align: right;\">\n",
       "      <th></th>\n",
       "      <th>NAME</th>\n",
       "      <th>B01001_001E</th>\n",
       "      <th>state</th>\n",
       "      <th>county</th>\n",
       "    </tr>\n",
       "  </thead>\n",
       "  <tbody>\n",
       "    <tr>\n",
       "      <th>0</th>\n",
       "      <td>Scotland County, North Carolina</td>\n",
       "      <td>35445</td>\n",
       "      <td>37</td>\n",
       "      <td>165</td>\n",
       "    </tr>\n",
       "    <tr>\n",
       "      <th>1</th>\n",
       "      <td>Watauga County, North Carolina</td>\n",
       "      <td>53421</td>\n",
       "      <td>37</td>\n",
       "      <td>189</td>\n",
       "    </tr>\n",
       "    <tr>\n",
       "      <th>2</th>\n",
       "      <td>Halifax County, North Carolina</td>\n",
       "      <td>52300</td>\n",
       "      <td>37</td>\n",
       "      <td>083</td>\n",
       "    </tr>\n",
       "    <tr>\n",
       "      <th>3</th>\n",
       "      <td>Alamance County, North Carolina</td>\n",
       "      <td>157844</td>\n",
       "      <td>37</td>\n",
       "      <td>001</td>\n",
       "    </tr>\n",
       "    <tr>\n",
       "      <th>4</th>\n",
       "      <td>Tyrrell County, North Carolina</td>\n",
       "      <td>4090</td>\n",
       "      <td>37</td>\n",
       "      <td>177</td>\n",
       "    </tr>\n",
       "    <tr>\n",
       "      <th>5</th>\n",
       "      <td>Greene County, North Carolina</td>\n",
       "      <td>21059</td>\n",
       "      <td>37</td>\n",
       "      <td>079</td>\n",
       "    </tr>\n",
       "    <tr>\n",
       "      <th>6</th>\n",
       "      <td>Haywood County, North Carolina</td>\n",
       "      <td>59854</td>\n",
       "      <td>37</td>\n",
       "      <td>087</td>\n",
       "    </tr>\n",
       "    <tr>\n",
       "      <th>7</th>\n",
       "      <td>Mitchell County, North Carolina</td>\n",
       "      <td>15155</td>\n",
       "      <td>37</td>\n",
       "      <td>121</td>\n",
       "    </tr>\n",
       "    <tr>\n",
       "      <th>8</th>\n",
       "      <td>Chowan County, North Carolina</td>\n",
       "      <td>14370</td>\n",
       "      <td>37</td>\n",
       "      <td>041</td>\n",
       "    </tr>\n",
       "    <tr>\n",
       "      <th>9</th>\n",
       "      <td>Alleghany County, North Carolina</td>\n",
       "      <td>10935</td>\n",
       "      <td>37</td>\n",
       "      <td>005</td>\n",
       "    </tr>\n",
       "  </tbody>\n",
       "</table>\n",
       "</div>"
      ],
      "text/plain": [
       "                               NAME  B01001_001E state county\n",
       "0   Scotland County, North Carolina        35445    37    165\n",
       "1    Watauga County, North Carolina        53421    37    189\n",
       "2    Halifax County, North Carolina        52300    37    083\n",
       "3   Alamance County, North Carolina       157844    37    001\n",
       "4    Tyrrell County, North Carolina         4090    37    177\n",
       "5     Greene County, North Carolina        21059    37    079\n",
       "6    Haywood County, North Carolina        59854    37    087\n",
       "7   Mitchell County, North Carolina        15155    37    121\n",
       "8     Chowan County, North Carolina        14370    37    041\n",
       "9  Alleghany County, North Carolina        10935    37    005"
      ]
     },
     "execution_count": 10,
     "metadata": {},
     "output_type": "execute_result"
    }
   ],
   "source": [
    "#Convert to a dataframe\n",
    "dfACS = pd.DataFrame(j[1:],columns=j[0])\n",
    "dfACS['B01001_001E'] = dfACS['B01001_001E'].astype('int')\n",
    "dfACS.head(10)"
   ]
  },
  {
   "cell_type": "code",
   "execution_count": 11,
   "metadata": {},
   "outputs": [
    {
     "data": {
      "image/png": "[encoded data removed]",
      "text/plain": [
       "<Figure size 432x288 with 1 Axes>"
      ]
     },
     "metadata": {
      "needs_background": "light"
     },
     "output_type": "display_data"
    }
   ],
   "source": [
    "%matplotlib inline\n",
    "dfACS.head(10).set_index('NAME').plot(kind='barh');"
   ]
  },
  {
   "cell_type": "code",
   "execution_count": null,
   "metadata": {},
   "outputs": [],
   "source": []
  }
 ],
 "metadata": {
  "kernelspec": {
   "display_name": "Python 3",
   "language": "python",
   "name": "python3"
  },
  "language_info": {
   "codemirror_mode": {
    "name": "ipython",
    "version": 3
   },
   "file_extension": ".py",
   "mimetype": "text/x-python",
   "name": "python",
   "nbconvert_exporter": "python",
   "pygments_lexer": "ipython3",
   "version": "3.6.12"
  }
 },
 "nbformat": 4,
 "nbformat_minor": 2
}
