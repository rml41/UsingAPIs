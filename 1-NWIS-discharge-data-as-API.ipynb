{
 "cells": [
  {
   "cell_type": "markdown",
   "metadata": {},
   "source": [
    "# Accessing the NWIS Discharge data  - as an API\n",
    "In an earlier session, we used `urllib` and `pandas` to retrieve data from a static URL. Here we refine that procedure to again retrieve water flow data from the NWIS website. What's different this time, however, is that we examine the URL as a web service, dissecting it into its components (web service address and web service parameters). We also switch to using the Python `requests` package to handle the interaction, as it's slightly more user friendly than the `urllib` package. "
   ]
  },
  {
   "cell_type": "markdown",
   "metadata": {},
   "source": [
    "The URL listing current discharge conditions in the Eno near Durham gage site is here: \n",
    "```html\n",
    "http://waterdata.usgs.gov/nwis/uv?cb_00060=on&cb_00065=on&format=rdb&site_no=02085070&period=1&begin_date=&end_date=\n",
    "```"
   ]
  },
  {
   "cell_type": "markdown",
   "metadata": {},
   "source": [
    "As you'll see in the example below, the `requests` package constructs a web service request with two parameters. The first is the full service address (`http://waterdata.usgs.gov/nwis/uv`), which is followed by the set of service parameters, passed as a Python dictionary."
   ]
  },
  {
   "cell_type": "code",
   "execution_count": 1,
   "metadata": {},
   "outputs": [],
   "source": [
    "#import packages\n",
    "import requests"
   ]
  },
  {
   "cell_type": "code",
   "execution_count": 2,
   "metadata": {},
   "outputs": [],
   "source": [
    "#dissect the URL into it's components, for easy comprehension -- and easy modification\n",
    "serviceURL = 'http://waterdata.usgs.gov/nwis/uv'\n",
    "parameters = {'cb_00060':'on',\n",
    "              'cb_00065':'on',\n",
    "              'format':'rdb',\n",
    "              'period':'1',\n",
    "              'site_no':'02085070',\n",
    "              'begin_date':'',\n",
    "              'end_date':''\n",
    "             }"
   ]
  },
  {
   "cell_type": "markdown",
   "metadata": {},
   "source": [
    "Ok, here we send the request, storing the response in a variable called `response`. The second line extacts the response as raw text into the variable `responseText`."
   ]
  },
  {
   "cell_type": "code",
   "execution_count": 3,
   "metadata": {},
   "outputs": [],
   "source": [
    "#Pass the url and its parameters to the server and get its response\n",
    "response = requests.get(serviceURL, parameters)\n",
    "responseText = response.text"
   ]
  },
  {
   "cell_type": "code",
   "execution_count": 4,
   "metadata": {},
   "outputs": [
    {
     "name": "stdout",
     "output_type": "stream",
     "text": [
      "# ---------------------------------- WARNING ----------------------------------------\n",
      "# Some of the data that you have obtained from this U.S. Geological Survey database\n",
      "# may not have received Director's approval. Any such data values are qualified\n",
      "# as provisional and are subject to revision. Provisional data are released on the\n",
      "# condition that neither the USGS nor the United States Government may be held liable\n",
      "# for any damages resulting from its use.\n",
      "#\n",
      "# Additional info: https://help.waterdata.usgs.gov/policies/provisional-data-statement\n",
      "#\n",
      "# File-format description:  https://help.waterdata.usgs.gov/faq/about-tab-delimited-output\n",
      "# Automated-retrieval info: https://help.waterdata.usgs.gov/faq/automated-retrievals\n",
      "#\n",
      "# Contact:   gs-w_support_nwisweb@usgs.gov\n",
      "# retrieved: 2020-11-15 20:10:04 EST       (caww01)\n",
      "#\n",
      "# Data for the following 1 site(s) are contained in this file\n",
      "#    USGS 02085070 ENO RIVER NEAR DURHAM, NC\n",
      "# -----------------------------------------------------------------------------------\n",
      "#\n",
      "# Data provided for site 02085070\n",
      "#            TS   parameter     Description\n",
      "#         89062       00060     Discharge, cubic feet per second\n",
      "#         89063       00065     Gage height, feet\n",
      "#\n",
      "# Data-value qualification codes included in this output:\n",
      "#     P  Provisional data subject to revision.\n",
      "# \n",
      "agency_cd\tsite_no\tdatetime\ttz_cd\t89062_00060\t89062_00060_cd\t89063_00065\t89063_00065_cd\n",
      "5s\t15s\t20d\t6s\t14n\t10s\t14n\t10s\n",
      "USGS\t02085070\t2020-11-14 00:00\tEST\t591\tP\t3.70\tP\n",
      "USGS\t02085070\t2020-11-14 00:15\tEST\t583\tP\t3.68\tP\n",
      "USGS\t02085070\t2020-11-14 00:30\tEST\t579\tP\t3.67\tP\n",
      "USGS\t02085070\t2020-11-14 00:45\tEST\t571\tP\t3.65\tP\n",
      "USGS\t02085070\t2020-11-14 01:00\tEST\t571\tP\t3.65\tP\n",
      "USGS\t02085070\t2020-11-14 01:15\tEST\t567\tP\t3.64\tP\n",
      "USGS\t02085070\t2020-11-14 01:30\tEST\t556\tP\t3.61\tP\n",
      "USGS\t02085070\t2020-11-14 01:45\tEST\t560\tP\t3.62\tP\n",
      "USGS\t02085070\t2020-11-14 02:00\tEST\t552\tP\t3.60\tP\n",
      "USGS\t02085070\t2020-11-14 02:15\tEST\t548\tP\t3.59\tP\n",
      "USGS\t02085070\t2020-11-14 02:30\tEST\t544\tP\t3.58\tP\n",
      "USGS\t02085070\t2020-11-14 02:45\tEST\t541\tP\t3.57\tP\n",
      "USGS\t02085070\t2020-11-14 03:00\tEST\t533\tP\t3.55\tP\n",
      "USGS\t02085070\t2020-11-14 03:15\tEST\t529\tP\t3.54\tP\n",
      "USGS\t02085070\t2020-11-14 03:30\tEST\t529\tP\t3.54\tP\n",
      "USGS\t02085070\t2020-11-14 03:45\tEST\t526\tP\t3.53\tP\n",
      "USGS\t02085070\t2020-11-14 04:00\tEST\t518\tP\t3.51\tP\n",
      "USGS\t02085070\t2020-11-14 04:15\tEST\t518\tP\t3.51\tP\n",
      "USGS\t02085070\t2020-11-14 04:30\tEST\t509\tP\t3.49\tP\n",
      "USGS\t02085070\t2020-11-14 04:45\tEST\t514\tP\t3.50\tP\n",
      "USGS\t02085070\t2020-11-14 05:00\tEST\t505\tP\t3.48\tP\n",
      "USGS\t02085070\t2020-11-14 05:15\tEST\t496\tP\t3.46\tP\n",
      "USGS\t02085070\t2020-11-14 05:30\tEST\t496\tP\t3.46\tP\n",
      "USGS\t02085070\t2020-11-14 05:45\tEST\t492\tP\t3.45\tP\n",
      "USGS\t02085070\t2020-11-14 06:00\tEST\t483\tP\t3.43\tP\n",
      "USGS\t02085070\t2020-11-14 06:15\tEST\t483\tP\t3.43\tP\n",
      "USGS\t02085070\t2020-11-14 06:30\tEST\t475\tP\t3.41\tP\n",
      "USGS\t02085070\t2020-11-14 06:45\tEST\t471\tP\t3.40\tP\n",
      "USGS\t02085070\t2020-11-14 07:00\tEST\t471\tP\t3.40\tP\n",
      "USGS\t02085070\t2020-11-14 07:15\tEST\t463\tP\t3.38\tP\n",
      "USGS\t02085070\t2020-11-14 07:30\tEST\t454\tP\t3.36\tP\n",
      "USGS\t02085070\t2020-11-14 07:45\tEST\t454\tP\t3.36\tP\n",
      "USGS\t02085070\t2020-11-14 08:00\tEST\t446\tP\t3.34\tP\n",
      "USGS\t02085070\t2020-11-14 08:15\tEST\t443\tP\t3.33\tP\n",
      "USGS\t02085070\t2020-11-14 08:30\tEST\t439\tP\t3.32\tP\n",
      "USGS\t02085070\t2020-11-14 08:45\tEST\t435\tP\t3.31\tP\n",
      "USGS\t02085070\t2020-11-14 09:00\tEST\t431\tP\t3.30\tP\n",
      "USGS\t02085070\t2020-11-14 09:15\tEST\t423\tP\t3.28\tP\n",
      "USGS\t02085070\t2020-11-14 09:30\tEST\t419\tP\t3.27\tP\n",
      "USGS\t02085070\t2020-11-14 09:45\tEST\t419\tP\t3.27\tP\n",
      "USGS\t02085070\t2020-11-14 10:00\tEST\t412\tP\t3.25\tP\n",
      "USGS\t02085070\t2020-11-14 10:15\tEST\t412\tP\t3.25\tP\n",
      "USGS\t02085070\t2020-11-14 10:30\tEST\t404\tP\t3.23\tP\n",
      "USGS\t02085070\t2020-11-14 10:45\tEST\t401\tP\t3.22\tP\n",
      "USGS\t02085070\t2020-11-14 11:00\tEST\t401\tP\t3.22\tP\n",
      "USGS\t02085070\t2020-11-14 11:15\tEST\t393\tP\t3.20\tP\n",
      "USGS\t02085070\t2020-11-14 11:30\tEST\t386\tP\t3.18\tP\n",
      "USGS\t02085070\t2020-11-14 11:45\tEST\t386\tP\t3.18\tP\n",
      "USGS\t02085070\t2020-11-14 12:00\tEST\t383\tP\t3.17\tP\n",
      "USGS\t02085070\t2020-11-14 12:15\tEST\t375\tP\t3.15\tP\n",
      "USGS\t02085070\t2020-11-14 12:30\tEST\t371\tP\t3.14\tP\n",
      "USGS\t02085070\t2020-11-14 12:45\tEST\t367\tP\t3.13\tP\n",
      "USGS\t02085070\t2020-11-14 13:00\tEST\t359\tP\t3.11\tP\n",
      "USGS\t02085070\t2020-11-14 13:15\tEST\t363\tP\t3.12\tP\n",
      "USGS\t02085070\t2020-11-14 13:30\tEST\t359\tP\t3.11\tP\n",
      "USGS\t02085070\t2020-11-14 13:45\tEST\t355\tP\t3.10\tP\n",
      "USGS\t02085070\t2020-11-14 14:00\tEST\t355\tP\t3.10\tP\n",
      "USGS\t02085070\t2020-11-14 14:15\tEST\t348\tP\t3.08\tP\n",
      "USGS\t02085070\t2020-11-14 14:30\tEST\t344\tP\t3.07\tP\n",
      "USGS\t02085070\t2020-11-14 14:45\tEST\t340\tP\t3.06\tP\n",
      "USGS\t02085070\t2020-11-14 15:00\tEST\t337\tP\t3.05\tP\n",
      "USGS\t02085070\t2020-11-14 15:15\tEST\t337\tP\t3.05\tP\n",
      "USGS\t02085070\t2020-11-14 15:30\tEST\t333\tP\t3.04\tP\n",
      "USGS\t02085070\t2020-11-14 15:45\tEST\t326\tP\t3.02\tP\n",
      "USGS\t02085070\t2020-11-14 16:00\tEST\t326\tP\t3.02\tP\n",
      "USGS\t02085070\t2020-11-14 16:15\tEST\t322\tP\t3.01\tP\n",
      "USGS\t02085070\t2020-11-14 16:30\tEST\t319\tP\t3.00\tP\n",
      "USGS\t02085070\t2020-11-14 16:45\tEST\t319\tP\t3.00\tP\n",
      "USGS\t02085070\t2020-11-14 17:00\tEST\t315\tP\t2.99\tP\n",
      "USGS\t02085070\t2020-11-14 17:15\tEST\t308\tP\t2.97\tP\n",
      "USGS\t02085070\t2020-11-14 17:30\tEST\t308\tP\t2.97\tP\n",
      "USGS\t02085070\t2020-11-14 17:45\tEST\t305\tP\t2.96\tP\n",
      "USGS\t02085070\t2020-11-14 18:00\tEST\t305\tP\t2.96\tP\n",
      "USGS\t02085070\t2020-11-14 18:15\tEST\t305\tP\t2.96\tP\n",
      "USGS\t02085070\t2020-11-14 18:30\tEST\t298\tP\t2.94\tP\n",
      "USGS\t02085070\t2020-11-14 18:45\tEST\t298\tP\t2.94\tP\n",
      "USGS\t02085070\t2020-11-14 19:00\tEST\t292\tP\t2.92\tP\n",
      "USGS\t02085070\t2020-11-14 19:15\tEST\t292\tP\t2.92\tP\n",
      "USGS\t02085070\t2020-11-14 19:30\tEST\t288\tP\t2.91\tP\n",
      "USGS\t02085070\t2020-11-14 19:45\tEST\t285\tP\t2.90\tP\n",
      "USGS\t02085070\t2020-11-14 20:00\tEST\t285\tP\t2.90\tP\n",
      "USGS\t02085070\t2020-11-14 20:15\tEST\t278\tP\t2.88\tP\n",
      "USGS\t02085070\t2020-11-14 20:30\tEST\t282\tP\t2.89\tP\n",
      "USGS\t02085070\t2020-11-14 20:45\tEST\t282\tP\t2.89\tP\n",
      "USGS\t02085070\t2020-11-14 21:00\tEST\t275\tP\t2.87\tP\n",
      "USGS\t02085070\t2020-11-14 21:15\tEST\t275\tP\t2.87\tP\n",
      "USGS\t02085070\t2020-11-14 21:30\tEST\t272\tP\t2.86\tP\n",
      "USGS\t02085070\t2020-11-14 21:45\tEST\t265\tP\t2.84\tP\n",
      "USGS\t02085070\t2020-11-14 22:00\tEST\t269\tP\t2.85\tP\n",
      "USGS\t02085070\t2020-11-14 22:15\tEST\t265\tP\t2.84\tP\n",
      "USGS\t02085070\t2020-11-14 22:30\tEST\t265\tP\t2.84\tP\n",
      "USGS\t02085070\t2020-11-14 22:45\tEST\t262\tP\t2.83\tP\n",
      "USGS\t02085070\t2020-11-14 23:00\tEST\t259\tP\t2.82\tP\n",
      "USGS\t02085070\t2020-11-14 23:15\tEST\t256\tP\t2.81\tP\n",
      "USGS\t02085070\t2020-11-14 23:30\tEST\t256\tP\t2.81\tP\n",
      "USGS\t02085070\t2020-11-14 23:45\tEST\t253\tP\t2.80\tP\n",
      "USGS\t02085070\t2020-11-15 00:00\tEST\t250\tP\t2.79\tP\n",
      "USGS\t02085070\t2020-11-15 00:15\tEST\t250\tP\t2.79\tP\n",
      "USGS\t02085070\t2020-11-15 00:30\tEST\t250\tP\t2.79\tP\n",
      "USGS\t02085070\t2020-11-15 00:45\tEST\t250\tP\t2.79\tP\n",
      "USGS\t02085070\t2020-11-15 01:00\tEST\t247\tP\t2.78\tP\n",
      "USGS\t02085070\t2020-11-15 01:15\tEST\t247\tP\t2.78\tP\n",
      "USGS\t02085070\t2020-11-15 01:30\tEST\t244\tP\t2.77\tP\n",
      "USGS\t02085070\t2020-11-15 01:45\tEST\t244\tP\t2.77\tP\n",
      "USGS\t02085070\t2020-11-15 02:00\tEST\t244\tP\t2.77\tP\n",
      "USGS\t02085070\t2020-11-15 02:15\tEST\t241\tP\t2.76\tP\n",
      "USGS\t02085070\t2020-11-15 02:30\tEST\t236\tP\t2.74\tP\n",
      "USGS\t02085070\t2020-11-15 02:45\tEST\t238\tP\t2.75\tP\n",
      "USGS\t02085070\t2020-11-15 03:00\tEST\t236\tP\t2.74\tP\n",
      "USGS\t02085070\t2020-11-15 03:15\tEST\t236\tP\t2.74\tP\n",
      "USGS\t02085070\t2020-11-15 03:30\tEST\t236\tP\t2.74\tP\n",
      "USGS\t02085070\t2020-11-15 03:45\tEST\t233\tP\t2.73\tP\n",
      "USGS\t02085070\t2020-11-15 04:00\tEST\t230\tP\t2.72\tP\n",
      "USGS\t02085070\t2020-11-15 04:15\tEST\t230\tP\t2.72\tP\n",
      "USGS\t02085070\t2020-11-15 04:30\tEST\t230\tP\t2.72\tP\n",
      "USGS\t02085070\t2020-11-15 04:45\tEST\t230\tP\t2.72\tP\n",
      "USGS\t02085070\t2020-11-15 05:00\tEST\t227\tP\t2.71\tP\n",
      "USGS\t02085070\t2020-11-15 05:15\tEST\t227\tP\t2.71\tP\n",
      "USGS\t02085070\t2020-11-15 05:30\tEST\t225\tP\t2.70\tP\n",
      "USGS\t02085070\t2020-11-15 05:45\tEST\t225\tP\t2.70\tP\n",
      "USGS\t02085070\t2020-11-15 06:00\tEST\t222\tP\t2.69\tP\n",
      "USGS\t02085070\t2020-11-15 06:15\tEST\t225\tP\t2.70\tP\n",
      "USGS\t02085070\t2020-11-15 06:30\tEST\t222\tP\t2.69\tP\n",
      "USGS\t02085070\t2020-11-15 06:45\tEST\t219\tP\t2.68\tP\n",
      "USGS\t02085070\t2020-11-15 07:00\tEST\t219\tP\t2.68\tP\n",
      "USGS\t02085070\t2020-11-15 07:15\tEST\t217\tP\t2.67\tP\n",
      "USGS\t02085070\t2020-11-15 07:30\tEST\t217\tP\t2.67\tP\n",
      "USGS\t02085070\t2020-11-15 07:45\tEST\t217\tP\t2.67\tP\n",
      "USGS\t02085070\t2020-11-15 08:00\tEST\t214\tP\t2.66\tP\n",
      "USGS\t02085070\t2020-11-15 08:15\tEST\t214\tP\t2.66\tP\n",
      "USGS\t02085070\t2020-11-15 08:30\tEST\t214\tP\t2.66\tP\n",
      "USGS\t02085070\t2020-11-15 08:45\tEST\t212\tP\t2.65\tP\n",
      "USGS\t02085070\t2020-11-15 09:00\tEST\t209\tP\t2.64\tP\n",
      "USGS\t02085070\t2020-11-15 09:15\tEST\t209\tP\t2.64\tP\n",
      "USGS\t02085070\t2020-11-15 09:30\tEST\t209\tP\t2.64\tP\n",
      "USGS\t02085070\t2020-11-15 09:45\tEST\t209\tP\t2.64\tP\n",
      "USGS\t02085070\t2020-11-15 10:00\tEST\t209\tP\t2.64\tP\n",
      "USGS\t02085070\t2020-11-15 10:15\tEST\t206\tP\t2.63\tP\n",
      "USGS\t02085070\t2020-11-15 10:30\tEST\t206\tP\t2.63\tP\n",
      "USGS\t02085070\t2020-11-15 10:45\tEST\t204\tP\t2.62\tP\n",
      "USGS\t02085070\t2020-11-15 11:00\tEST\t204\tP\t2.62\tP\n",
      "USGS\t02085070\t2020-11-15 11:15\tEST\t204\tP\t2.62\tP\n",
      "USGS\t02085070\t2020-11-15 11:30\tEST\t201\tP\t2.61\tP\n",
      "USGS\t02085070\t2020-11-15 11:45\tEST\t204\tP\t2.62\tP\n",
      "USGS\t02085070\t2020-11-15 12:00\tEST\t201\tP\t2.61\tP\n",
      "USGS\t02085070\t2020-11-15 12:15\tEST\t199\tP\t2.60\tP\n",
      "USGS\t02085070\t2020-11-15 12:30\tEST\t197\tP\t2.59\tP\n",
      "USGS\t02085070\t2020-11-15 12:45\tEST\t197\tP\t2.59\tP\n",
      "USGS\t02085070\t2020-11-15 13:00\tEST\t199\tP\t2.60\tP\n",
      "USGS\t02085070\t2020-11-15 13:15\tEST\t197\tP\t2.59\tP\n",
      "USGS\t02085070\t2020-11-15 13:30\tEST\t194\tP\t2.58\tP\n",
      "USGS\t02085070\t2020-11-15 13:45\tEST\t194\tP\t2.58\tP\n",
      "USGS\t02085070\t2020-11-15 14:00\tEST\t194\tP\t2.58\tP\n",
      "USGS\t02085070\t2020-11-15 14:15\tEST\t192\tP\t2.57\tP\n",
      "USGS\t02085070\t2020-11-15 14:30\tEST\t189\tP\t2.56\tP\n",
      "USGS\t02085070\t2020-11-15 14:45\tEST\t192\tP\t2.57\tP\n",
      "USGS\t02085070\t2020-11-15 15:00\tEST\t192\tP\t2.57\tP\n",
      "USGS\t02085070\t2020-11-15 15:15\tEST\t192\tP\t2.57\tP\n",
      "USGS\t02085070\t2020-11-15 15:30\tEST\t189\tP\t2.56\tP\n",
      "USGS\t02085070\t2020-11-15 15:45\tEST\t189\tP\t2.56\tP\n",
      "USGS\t02085070\t2020-11-15 16:00\tEST\t189\tP\t2.56\tP\n",
      "USGS\t02085070\t2020-11-15 16:15\tEST\t189\tP\t2.56\tP\n",
      "USGS\t02085070\t2020-11-15 16:30\tEST\t187\tP\t2.55\tP\n",
      "USGS\t02085070\t2020-11-15 16:45\tEST\t187\tP\t2.55\tP\n",
      "USGS\t02085070\t2020-11-15 17:00\tEST\t185\tP\t2.54\tP\n",
      "USGS\t02085070\t2020-11-15 17:15\tEST\t185\tP\t2.54\tP\n",
      "USGS\t02085070\t2020-11-15 17:30\tEST\t185\tP\t2.54\tP\n",
      "USGS\t02085070\t2020-11-15 17:45\tEST\t183\tP\t2.53\tP\n",
      "USGS\t02085070\t2020-11-15 18:00\tEST\t183\tP\t2.53\tP\n",
      "USGS\t02085070\t2020-11-15 18:15\tEST\t183\tP\t2.53\tP\n",
      "USGS\t02085070\t2020-11-15 18:30\tEST\t183\tP\t2.53\tP\n",
      "USGS\t02085070\t2020-11-15 18:45\tEST\t180\tP\t2.52\tP\n",
      "USGS\t02085070\t2020-11-15 19:00\tEST\t183\tP\t2.53\tP\n",
      "USGS\t02085070\t2020-11-15 19:15\tEST\t183\tP\t2.53\tP\n",
      "\n"
     ]
    }
   ],
   "source": [
    "#What did we get? \n",
    "print(responseText)"
   ]
  },
  {
   "cell_type": "markdown",
   "metadata": {},
   "source": [
    "If you scroll all the way to the last line in the file, you get the most recent reading. We can use some Python to print out what this reading is... "
   ]
  },
  {
   "cell_type": "code",
   "execution_count": 5,
   "metadata": {},
   "outputs": [
    {
     "name": "stdout",
     "output_type": "stream",
     "text": [
      "Site 02085070 recorded a discharge of 183 cfs on 2020-11-15 19:15\n"
     ]
    }
   ],
   "source": [
    "#Convert the response text into a list of lines and print the second to last line\n",
    "responseLines = responseText.split('\\n')\n",
    "lastRecord = responseLines[-2].split('\\t')\n",
    "site = lastRecord[1]\n",
    "cfs = lastRecord[4]\n",
    "date = lastRecord[2]\n",
    "print(\"Site {0} recorded a discharge of {1} cfs on {2}\".format(site,cfs,date))"
   ]
  },
  {
   "cell_type": "markdown",
   "metadata": {},
   "source": [
    "► **EXERCISE**: The 3 code blocks below are copies of the ones above. Modify these code blocks to get data for site 02085039 (Eno River At Cole Mill Rd Nr Huckleberry Spring), and print out its most recent *gage height* (in feet):"
   ]
  },
  {
   "cell_type": "code",
   "execution_count": 7,
   "metadata": {},
   "outputs": [],
   "source": [
    "#dissect the URL into it's components, for easy comprehension -- and easy modification\n",
    "serviceURL = 'http://waterdata.usgs.gov/nwis/uv'\n",
    "parameters = {'cb_00060':'on',\n",
    "              'cb_00065':'on',\n",
    "              'format':'rdb',\n",
    "              'period':'1',\n",
    "              'site_no':'02085039',\n",
    "              'begin_date':'',\n",
    "              'end_date':''\n",
    "             }"
   ]
  },
  {
   "cell_type": "code",
   "execution_count": 8,
   "metadata": {},
   "outputs": [],
   "source": [
    "#Pass the url and its parameters to the server and get its response\n",
    "response = requests.get(serviceURL, parameters)\n",
    "responseText = response.text"
   ]
  },
  {
   "cell_type": "code",
   "execution_count": 9,
   "metadata": {},
   "outputs": [
    {
     "name": "stdout",
     "output_type": "stream",
     "text": [
      "Site 02085039 recorded a discharge of 3.00 cfs on 2020-11-15 20:00\n"
     ]
    }
   ],
   "source": [
    "#Convert the response text into a list of lines and print the second to last line\n",
    "responseLines = responseText.split('\\n')\n",
    "lastRecord = responseLines[-2].split('\\t')\n",
    "site = lastRecord[1]\n",
    "cfs = lastRecord[4]\n",
    "date = lastRecord[2]\n",
    "print(\"Site {0} recorded a discharge of {1} cfs on {2}\".format(site,cfs,date))"
   ]
  },
  {
   "cell_type": "code",
   "execution_count": null,
   "metadata": {},
   "outputs": [],
   "source": []
  }
 ],
 "metadata": {
  "kernelspec": {
   "display_name": "Python 3",
   "language": "python",
   "name": "python3"
  },
  "language_info": {
   "codemirror_mode": {
    "name": "ipython",
    "version": 3
   },
   "file_extension": ".py",
   "mimetype": "text/x-python",
   "name": "python",
   "nbconvert_exporter": "python",
   "pygments_lexer": "ipython3",
   "version": "3.6.12"
  }
 },
 "nbformat": 4,
 "nbformat_minor": 2
}
